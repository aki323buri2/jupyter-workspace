{
 "cells": [
  {
   "cell_type": "code",
   "execution_count": null,
   "metadata": {},
   "outputs": [],
   "source": [
    "import pandas as pd \n",
    "from pathlib import Path \n",
    "from functools import reduce \n",
    "import csv"
   ]
  },
  {
   "cell_type": "code",
   "execution_count": null,
   "metadata": {},
   "outputs": [],
   "source": [
    "def fullpath(*path):\n",
    "  root = Path(\".\")\n",
    "  full = reduce(lambda a, b: Path(a) / Path(b), path, root)\n",
    "  return full.resolve().absolute()\n",
    "  \n",
    "def ensure_dir(*path):\n",
    "  dirname = fullpath(*path) \n",
    "  dirname.mkdir(parents=True, exist_ok=True)\n",
    "  return dirname \n",
    "\n",
    "# fullpath(\"..\", \"path/to/dsit\")"
   ]
  },
  {
   "cell_type": "code",
   "execution_count": null,
   "metadata": {},
   "outputs": [],
   "source": [
    "class dotdict(dict):\n",
    "  def __setattr__(self, name, value):\n",
    "    self[name] = value \n",
    "  def __getattr__(self, name):\n",
    "    return self[name]\n",
    "\n",
    "# dd = dotdict(dict(id=1000, name=\"shokuryu\"))\n",
    "# dd.title = \"タイトル\"\n",
    "# dd "
   ]
  },
  {
   "cell_type": "code",
   "execution_count": null,
   "metadata": {},
   "outputs": [],
   "source": [
    "def load_csv(filename, dtype=str, **kargs):\n",
    "  return pd.read_csv(filename, dtype=dtype, **kargs)\n",
    "\n",
    "def save_csv(df, filename, index=False, quoting=csv.QUOTE_ALL, encoding=\"utf-8_sig\", **kargs):\n",
    "  filename = fullpath(filename)\n",
    "  df.to_csv(filename, index=index, quoting=quoting, encoding=encoding, **kargs)\n",
    "  return filename \n",
    "\n",
    "# df = pd.DataFrame([dict(id=x, name=f\"name of {x}\") for x in range(10)])\n",
    "# filename = fullpath(ensure_dir(\"_test\"), \"test.csv\")\n",
    "# save_csv(df, filename)\n",
    "# load_csv(filename)"
   ]
  },
  {
   "cell_type": "code",
   "execution_count": null,
   "metadata": {},
   "outputs": [],
   "source": []
  }
 ],
 "metadata": {
  "interpreter": {
   "hash": "c688ced32421b6e0c2623d0cc61f1e3db35c35392b047fa76651d72914615363"
  },
  "kernelspec": {
   "display_name": "Python 3.10.2 ('.venv': poetry)",
   "language": "python",
   "name": "python3"
  },
  "language_info": {
   "codemirror_mode": {
    "name": "ipython",
    "version": 3
   },
   "file_extension": ".py",
   "mimetype": "text/x-python",
   "name": "python",
   "nbconvert_exporter": "python",
   "pygments_lexer": "ipython3",
   "version": "3.10.2"
  },
  "orig_nbformat": 4
 },
 "nbformat": 4,
 "nbformat_minor": 2
}
